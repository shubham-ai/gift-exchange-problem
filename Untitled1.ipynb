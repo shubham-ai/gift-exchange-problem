{
 "cells": [
  {
   "cell_type": "code",
   "execution_count": 17,
   "metadata": {},
   "outputs": [
    {
     "name": "stdout",
     "output_type": "stream",
     "text": [
      "Type name or Type exit to exit: a\n",
      "Type name or Type exit to exit: b\n",
      "Type name or Type exit to exit: d\n",
      "Type name or Type exit to exit: \n",
      "Name can't be empty\n",
      "Type name or Type exit to exit: exit\n",
      "{0: {'name': 'a', 'pIndex': None}, 1: {'name': 'b', 'pIndex': None}, 2: {'name': 'd', 'pIndex': None}}\n",
      "please enter t(true) and couple index followed by spaces to procees else type f f f f f f\n",
      "[] combination\n",
      "P(probabiltiy of fixed position)=  -0.33333333333333337\n",
      "P(No. of unique solutions)= 0.5 = 3.0 / 6.0\n",
      "[('0', '1'), ('0', '2'), ('1', '2')]\n",
      "\n",
      "P(No. of valid solutions)= 0.5 = 3.0 / 6.0\n",
      "[('0', '1'), ('0', '2'), ('1', '2')]\n",
      "('0', '1')\n",
      "('0', '2')\n",
      "('1', '2')\n",
      "[('a', 'b'), ('a', 'd'), ('b', 'd')]\n"
     ]
    }
   ],
   "source": [
    "import itertools\n",
    "class Logical:\n",
    "    def __init__(self):\n",
    "        a=0\n",
    "        b=0\n",
    "    def miniStartInput(self):\n",
    "        self.a,self.b = int(input(\"please enter number of family member's: \")),int(input(\"Enter number of couples in you'r family: \"))\n",
    "    def factorial(self,val):\n",
    "        if(val<=1):\n",
    "            return 1\n",
    "        return val*self.factorial(val-1)\n",
    "    def pOfFixPosition(self,start,end):\n",
    "        result=0\n",
    "        for i in range(start,end):\n",
    "                result = result+(-1)**(i+1)*1/self.factorial(i)\n",
    "        print(\"P(probabiltiy of fixed position)= \",result)\n",
    "        return result\n",
    "    def uniqueVal(self,a,unique,total):\n",
    "            i = list(map(lambda x: x,range(a)))\n",
    "            num = (\"\".join(map(str,i)))\n",
    "            print(\"P(No. of unique solutions)=\",unique/total,\"=\",(unique),\"/\",total)\n",
    "            uniqueSol=list(itertools.combinations(num,2))\n",
    "            print(uniqueSol)\n",
    "            return uniqueSol\n",
    "    def miniStart(self,flag=True):\n",
    "        a=self.a\n",
    "        b=self.b\n",
    "        \n",
    "        if(2*b<=a):\n",
    "            unique=(a*(a-1)/2)\n",
    "            total = unique+a\n",
    "            \n",
    "            result = self.pOfFixPosition(start=2,end=a+1)\n",
    "\n",
    "            uniqueSol=self.uniqueVal(a,unique,total)\n",
    "            print(\"\")\n",
    "            print(\"P(No. of valid solutions)=\", (unique+b)/total,\"=\",(unique+b),\"/\",total)\n",
    "            if(flag):\n",
    "                print(uniqueSol[b:])\n",
    "            return uniqueSol\n",
    "        else:\n",
    "            print(\"please enter valid number of couples\")\n",
    "    def filtering(self,names,couple):\n",
    "        result = list(filter(lambda x: x not in couple, names))\n",
    "        return result\n",
    "    \n",
    "    def startInput(self):          \n",
    "        names = {}\n",
    "        combination=[]\n",
    "        i=0\n",
    "        while(True):\n",
    "            name = str(input(\"Type name or Type exit to exit: \"))\n",
    "            if(name == \"exit\"): break\n",
    "            elif(name==\"\"): print(\"Name can't be empty\")\n",
    "            else: \n",
    "                names[i]={\"name\": name,\"pIndex\": None}\n",
    "                i=i+1\n",
    "        print(names)\n",
    "\n",
    "        while(True):\n",
    "            try:\n",
    "                boolean,index2,index1=list(map(str,input(\"please enter t(true) and couple index followed by spaces to procees else type f f f \").split()))\n",
    "\n",
    "                if(boolean == False or boolean==\"false\" or boolean==\"f\" or boolean== \"F\"): break\n",
    "                if(boolean==\"\" or index1==\"\" or index2==\"\"): print(\"opps you have some empty space to fill\")\n",
    "                else:\n",
    "                    if(int(index1) < len(names) and int(index2)<len(names) and int(index2)!=int(index1)):\n",
    "                        if(names[int(index1)][\"pIndex\"]==None and names[int(index2)][\"pIndex\"]==None):\n",
    "                            combo=[]\n",
    "                            names[int(index1)][\"pIndex\"]=int(index2)\n",
    "                            names[int(index2)][\"pIndex\"]=int(index1)\n",
    "                            combo.append(str(index1)) \n",
    "                            combo.append(str(index2))\n",
    "                            \n",
    "                            combo2=tuple(combo[::-1])\n",
    "                            combo=tuple(combo)\n",
    "                            combination.append(combo)\n",
    "                            print(combo,combo2)\n",
    "                            combination.append(combo2)\n",
    "\n",
    "                        else: print(\"opps! partner is already taken\")\n",
    "                    else: print(\"opps! Index out of range\")\n",
    "\n",
    "            except ValueError:\n",
    "                print(\"Error: you must enter Three inputs followd by space for e.g t 0 1\")\n",
    "        print(combination,\"combination\")        \n",
    "        self.a=len(names)\n",
    "        self.b=len(combination)\n",
    "        uniqueSolution=self.miniStart(False)\n",
    "        results=self.filtering(uniqueSolution,combination)\n",
    "        print(results)\n",
    "        finalResult=[]\n",
    "        for i in results:\n",
    "            local=[]\n",
    "            local.append(names[int(i[0])][\"name\"])\n",
    "            local.append(names[int(i[1])][\"name\"])\n",
    "\n",
    "            \n",
    "            finalResult.append(tuple(local))\n",
    "        print(finalResult)\n",
    "         \n",
    "if __name__=='__main__': \n",
    "  \n",
    "    # Start with the empty list \n",
    "    logics = Logical()\n",
    "#     logics.miniStartInput()\n",
    "#     logics.miniStart()\n",
    "    logics.startInput()\n"
   ]
  },
  {
   "cell_type": "markdown",
   "metadata": {},
   "source": [
    "#### for x in range(10):\n",
    "  print (random.randint(1,10)),\n"
   ]
  },
  {
   "cell_type": "code",
   "execution_count": null,
   "metadata": {},
   "outputs": [],
   "source": [
    "enter=True\n",
    "names = {}\n",
    "i=0\n",
    "while(True):\n",
    "    name = str(input(\"Type name or Type exit to exit: \"))\n",
    "    if(name == \"exit\"): break\n",
    "    elif(name==\"\"): print(\"Name can't be empty\")\n",
    "    else: \n",
    "        names[i]={\"name\": name,\"pIndex\": None}\n",
    "        i=i+1\n",
    "        \n",
    "while(True):\n",
    "    try:\n",
    "        boolean,index2,index1=list(map(str,input(\"please enter t and couple index followed by spaces to procees else type f f f \").split()))\n",
    "        if(boolean == False or boolean==\"false\" or boolean==\"f\" or boolean== \"F\"): break\n",
    "        if(boolean==\"\" or index1==\"\" or index2==\"\"): print(\"opps you have some empty space to fill\")\n",
    "        else:\n",
    "            if(int(index1) < len(names) and int(index2)<len(names) and int(index2)!=int(index1)):\n",
    "                if(names[int(index1)][\"pIndex\"]==None and names[int(index2)][\"pIndex\"]==None):\n",
    "                    names[int(index1)][\"pIndex\"]=int(index2)\n",
    "                    names[int(index2)][\"pIndex\"]=int(index1)\n",
    "                else: print(\"opps! partner is already taken\")\n",
    "            else: print(\"opps! Index out of range\")\n",
    "\n",
    "    except ValueError:\n",
    "        print(\"Error: you must enter Three inputs followd by space for e.g t 0 1\")\n",
    "\n",
    "\n",
    "print(names)"
   ]
  },
  {
   "cell_type": "code",
   "execution_count": null,
   "metadata": {},
   "outputs": [],
   "source": []
  },
  {
   "cell_type": "code",
   "execution_count": null,
   "metadata": {},
   "outputs": [],
   "source": [
    "print(len(dict))"
   ]
  },
  {
   "cell_type": "code",
   "execution_count": null,
   "metadata": {},
   "outputs": [],
   "source": [
    "a=[]\n",
    "for i in range(10):\n",
    "    combo=[]\n",
    "    combos=[]\n",
    "    combo.append(i)\n",
    "    combo.append(i+1)\n",
    "    combos=combo[0]\n",
    "    combo=tuple(combo)\n",
    "    a.append(combo)\n",
    "    a.append(tuple(combos))\n",
    "print(a)"
   ]
  },
  {
   "cell_type": "code",
   "execution_count": 3,
   "metadata": {},
   "outputs": [
    {
     "name": "stdout",
     "output_type": "stream",
     "text": [
      "[4, 3, 2, 1, 0]\n"
     ]
    }
   ],
   "source": [
    "a=[0,1,2,3,4]\n",
    "a=a[::-1]\n",
    "print(a)\n"
   ]
  },
  {
   "cell_type": "code",
   "execution_count": null,
   "metadata": {},
   "outputs": [],
   "source": [
    "fib=[('0', '1'), ('1', '2'), ('2', '3'), ('3', '4'), ('4', '5'), ('5', '6'), ('6', '7'), ('7', '8'), ('8', '9'), ('9', '10')]\n",
    "fib2=[('1', '0'), ('1', '2')]\n",
    "\n",
    "result = list(filter(lambda x: x not in fib2, fib))\n",
    "print(result)"
   ]
  },
  {
   "cell_type": "code",
   "execution_count": null,
   "metadata": {},
   "outputs": [],
   "source": [
    "for i in range(10):\n",
    "    print(i)"
   ]
  },
  {
   "cell_type": "code",
   "execution_count": null,
   "metadata": {},
   "outputs": [],
   "source": []
  }
 ],
 "metadata": {
  "kernelspec": {
   "display_name": "Python [conda env:self_driving]",
   "language": "python",
   "name": "conda-env-self_driving-py"
  },
  "language_info": {
   "codemirror_mode": {
    "name": "ipython",
    "version": 3
   },
   "file_extension": ".py",
   "mimetype": "text/x-python",
   "name": "python",
   "nbconvert_exporter": "python",
   "pygments_lexer": "ipython3",
   "version": "3.6.4"
  }
 },
 "nbformat": 4,
 "nbformat_minor": 2
}
